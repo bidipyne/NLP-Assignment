{
 "cells": [
  {
   "cell_type": "raw",
   "metadata": {},
   "source": [
    "In this assignment students have to find the frequency of words in a\n",
    "webpage. User can use urllib and BeautifulSoup to extract text from\n",
    "webpage."
   ]
  },
  {
   "cell_type": "code",
   "execution_count": 1,
   "metadata": {},
   "outputs": [],
   "source": [
    "from bs4 import BeautifulSoup\n",
    "import requests\n",
    "import re"
   ]
  },
  {
   "cell_type": "code",
   "execution_count": 3,
   "metadata": {},
   "outputs": [],
   "source": [
    "def frequencyofwebpage(url):\n",
    "    wordlist = []\n",
    "    word_count = {}\n",
    "    source_code = requests.get(url).text\n",
    "    soup = BeautifulSoup(source_code, 'html.parser')\n",
    "    for each_text in soup.findAll('div', {'class':'newscontent'}): \n",
    "        content = each_text.text \n",
    "        content = re.sub('[^A-Za-z]', ' ', content)\n",
    "        words = content.lower().split()          \n",
    "    for each_word in words: \n",
    "        wordlist.append(each_word) \n",
    "    for word in wordlist: \n",
    "        if word in word_count: \n",
    "            word_count[word] += 1\n",
    "        else: \n",
    "            word_count[word] = 1\n",
    "    return word_count"
   ]
  },
  {
   "cell_type": "code",
   "execution_count": 4,
   "metadata": {},
   "outputs": [
    {
     "data": {
      "text/plain": [
       "{'the': 10,\n",
       " 'php': 6,\n",
       " 'development': 2,\n",
       " 'team': 1,\n",
       " 'announces': 1,\n",
       " 'immediate': 1,\n",
       " 'availability': 1,\n",
       " 'of': 6,\n",
       " 'alpha': 3,\n",
       " 'this': 3,\n",
       " 'release': 2,\n",
       " 'contains': 1,\n",
       " 'fixes': 1,\n",
       " 'and': 5,\n",
       " 'improvements': 1,\n",
       " 'relative': 1,\n",
       " 'to': 2,\n",
       " 'all': 1,\n",
       " 'users': 1,\n",
       " 'are': 1,\n",
       " 'encouraged': 1,\n",
       " 'test': 1,\n",
       " 'version': 1,\n",
       " 'carefully': 1,\n",
       " 'report': 1,\n",
       " 'any': 1,\n",
       " 'bugs': 1,\n",
       " 'incompatibilities': 1,\n",
       " 'in': 3,\n",
       " 'bug': 1,\n",
       " 'tracking': 1,\n",
       " 'system': 1,\n",
       " 'is': 1,\n",
       " 'a': 2,\n",
       " 'preview': 1,\n",
       " 'do': 1,\n",
       " 'not': 1,\n",
       " 'use': 1,\n",
       " 'it': 1,\n",
       " 'production': 1,\n",
       " 'for': 4,\n",
       " 'information': 1,\n",
       " 'on': 4,\n",
       " 'new': 1,\n",
       " 'features': 1,\n",
       " 'other': 1,\n",
       " 'changes': 1,\n",
       " 'you': 3,\n",
       " 'can': 4,\n",
       " 'read': 2,\n",
       " 'news': 1,\n",
       " 'file': 2,\n",
       " 'or': 1,\n",
       " 'upgrading': 2,\n",
       " 'complete': 1,\n",
       " 'list': 2,\n",
       " 'notes': 1,\n",
       " 'these': 1,\n",
       " 'files': 1,\n",
       " 'also': 2,\n",
       " 'be': 3,\n",
       " 'found': 2,\n",
       " 'archive': 1,\n",
       " 'source': 1,\n",
       " 'downloads': 1,\n",
       " 'please': 1,\n",
       " 'visit': 1,\n",
       " 'download': 1,\n",
       " 'page': 1,\n",
       " 'windows': 2,\n",
       " 'sources': 1,\n",
       " 'binaries': 1,\n",
       " 'net': 1,\n",
       " 'qa': 1,\n",
       " 'first': 1,\n",
       " 'beta': 1,\n",
       " 'will': 1,\n",
       " 'released': 1,\n",
       " 'th': 1,\n",
       " 'july': 1,\n",
       " 'full': 1,\n",
       " 'planned': 1,\n",
       " 'releases': 1,\n",
       " 'our': 1,\n",
       " 'wiki': 1,\n",
       " 'thank': 1,\n",
       " 'helping': 1,\n",
       " 'us': 1,\n",
       " 'make': 1,\n",
       " 'better': 1}"
      ]
     },
     "execution_count": 4,
     "metadata": {},
     "output_type": "execute_result"
    }
   ],
   "source": [
    "frequencyofwebpage('https://www.php.net/')"
   ]
  },
  {
   "cell_type": "code",
   "execution_count": null,
   "metadata": {},
   "outputs": [],
   "source": []
  }
 ],
 "metadata": {
  "kernelspec": {
   "display_name": "Python 3",
   "language": "python",
   "name": "python3"
  },
  "language_info": {
   "codemirror_mode": {
    "name": "ipython",
    "version": 3
   },
   "file_extension": ".py",
   "mimetype": "text/x-python",
   "name": "python",
   "nbconvert_exporter": "python",
   "pygments_lexer": "ipython3",
   "version": "3.7.4"
  }
 },
 "nbformat": 4,
 "nbformat_minor": 4
}
